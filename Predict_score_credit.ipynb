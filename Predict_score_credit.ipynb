{
 "cells": [
  {
   "cell_type": "code",
   "execution_count": 1,
   "id": "256fc9c6",
   "metadata": {},
   "outputs": [],
   "source": [
    "import pandas as pd\n",
    "import numpy as np\n",
    "import matplotlib.pyplot as plt\n",
    "import seaborn as sns\n",
    "\n",
    "import warnings\n",
    "warnings.filterwarnings(\"ignore\")\n",
    "\n",
    "from sklearn.model_selection import train_test_split\n",
    "from sklearn.preprocessing import StandardScaler\n",
    "from sklearn.preprocessing import MinMaxScaler\n",
    "from sklearn.preprocessing import LabelEncoder\n",
    "from sklearn.linear_model import LinearRegression\n",
    "from sklearn.metrics import r2_score\n"
   ]
  },
  {
   "cell_type": "code",
   "execution_count": 2,
   "id": "59818bb6",
   "metadata": {},
   "outputs": [],
   "source": [
    "df = pd.read_csv('credit_score.csv')"
   ]
  },
  {
   "cell_type": "code",
   "execution_count": 3,
   "id": "bc4cf310",
   "metadata": {},
   "outputs": [
    {
     "data": {
      "text/html": [
       "<div>\n",
       "<style scoped>\n",
       "    .dataframe tbody tr th:only-of-type {\n",
       "        vertical-align: middle;\n",
       "    }\n",
       "\n",
       "    .dataframe tbody tr th {\n",
       "        vertical-align: top;\n",
       "    }\n",
       "\n",
       "    .dataframe thead th {\n",
       "        text-align: right;\n",
       "    }\n",
       "</style>\n",
       "<table border=\"1\" class=\"dataframe\">\n",
       "  <thead>\n",
       "    <tr style=\"text-align: right;\">\n",
       "      <th></th>\n",
       "      <th>Age</th>\n",
       "      <th>Gender</th>\n",
       "      <th>Income</th>\n",
       "      <th>Education</th>\n",
       "      <th>Marital Status</th>\n",
       "      <th>Number of Children</th>\n",
       "      <th>Home Ownership</th>\n",
       "      <th>Credit Score</th>\n",
       "    </tr>\n",
       "  </thead>\n",
       "  <tbody>\n",
       "    <tr>\n",
       "      <th>0</th>\n",
       "      <td>25</td>\n",
       "      <td>Female</td>\n",
       "      <td>50000</td>\n",
       "      <td>Bachelor's Degree</td>\n",
       "      <td>Single</td>\n",
       "      <td>0</td>\n",
       "      <td>Rented</td>\n",
       "      <td>High</td>\n",
       "    </tr>\n",
       "    <tr>\n",
       "      <th>1</th>\n",
       "      <td>30</td>\n",
       "      <td>Male</td>\n",
       "      <td>100000</td>\n",
       "      <td>Master's Degree</td>\n",
       "      <td>Married</td>\n",
       "      <td>2</td>\n",
       "      <td>Owned</td>\n",
       "      <td>High</td>\n",
       "    </tr>\n",
       "    <tr>\n",
       "      <th>2</th>\n",
       "      <td>35</td>\n",
       "      <td>Female</td>\n",
       "      <td>75000</td>\n",
       "      <td>Doctorate</td>\n",
       "      <td>Married</td>\n",
       "      <td>1</td>\n",
       "      <td>Owned</td>\n",
       "      <td>High</td>\n",
       "    </tr>\n",
       "    <tr>\n",
       "      <th>3</th>\n",
       "      <td>40</td>\n",
       "      <td>Male</td>\n",
       "      <td>125000</td>\n",
       "      <td>High School Diploma</td>\n",
       "      <td>Single</td>\n",
       "      <td>0</td>\n",
       "      <td>Owned</td>\n",
       "      <td>High</td>\n",
       "    </tr>\n",
       "    <tr>\n",
       "      <th>4</th>\n",
       "      <td>45</td>\n",
       "      <td>Female</td>\n",
       "      <td>100000</td>\n",
       "      <td>Bachelor's Degree</td>\n",
       "      <td>Married</td>\n",
       "      <td>3</td>\n",
       "      <td>Owned</td>\n",
       "      <td>High</td>\n",
       "    </tr>\n",
       "  </tbody>\n",
       "</table>\n",
       "</div>"
      ],
      "text/plain": [
       "   Age  Gender  Income            Education Marital Status  \\\n",
       "0   25  Female   50000    Bachelor's Degree         Single   \n",
       "1   30    Male  100000      Master's Degree        Married   \n",
       "2   35  Female   75000            Doctorate        Married   \n",
       "3   40    Male  125000  High School Diploma         Single   \n",
       "4   45  Female  100000    Bachelor's Degree        Married   \n",
       "\n",
       "   Number of Children Home Ownership Credit Score  \n",
       "0                   0         Rented         High  \n",
       "1                   2          Owned         High  \n",
       "2                   1          Owned         High  \n",
       "3                   0          Owned         High  \n",
       "4                   3          Owned         High  "
      ]
     },
     "execution_count": 3,
     "metadata": {},
     "output_type": "execute_result"
    }
   ],
   "source": [
    "df.head()"
   ]
  },
  {
   "cell_type": "code",
   "execution_count": 4,
   "id": "33718d9c",
   "metadata": {},
   "outputs": [
    {
     "data": {
      "text/html": [
       "<div>\n",
       "<style scoped>\n",
       "    .dataframe tbody tr th:only-of-type {\n",
       "        vertical-align: middle;\n",
       "    }\n",
       "\n",
       "    .dataframe tbody tr th {\n",
       "        vertical-align: top;\n",
       "    }\n",
       "\n",
       "    .dataframe thead th {\n",
       "        text-align: right;\n",
       "    }\n",
       "</style>\n",
       "<table border=\"1\" class=\"dataframe\">\n",
       "  <thead>\n",
       "    <tr style=\"text-align: right;\">\n",
       "      <th></th>\n",
       "      <th>Age</th>\n",
       "      <th>Gender</th>\n",
       "      <th>Income</th>\n",
       "      <th>Education</th>\n",
       "      <th>Marital Status</th>\n",
       "      <th>Number of Children</th>\n",
       "      <th>Home Ownership</th>\n",
       "      <th>Credit Score</th>\n",
       "    </tr>\n",
       "  </thead>\n",
       "  <tbody>\n",
       "    <tr>\n",
       "      <th>159</th>\n",
       "      <td>29</td>\n",
       "      <td>Female</td>\n",
       "      <td>27500</td>\n",
       "      <td>High School Diploma</td>\n",
       "      <td>Single</td>\n",
       "      <td>0</td>\n",
       "      <td>Rented</td>\n",
       "      <td>Low</td>\n",
       "    </tr>\n",
       "    <tr>\n",
       "      <th>160</th>\n",
       "      <td>34</td>\n",
       "      <td>Male</td>\n",
       "      <td>47500</td>\n",
       "      <td>Associate's Degree</td>\n",
       "      <td>Single</td>\n",
       "      <td>0</td>\n",
       "      <td>Rented</td>\n",
       "      <td>Average</td>\n",
       "    </tr>\n",
       "    <tr>\n",
       "      <th>161</th>\n",
       "      <td>39</td>\n",
       "      <td>Female</td>\n",
       "      <td>62500</td>\n",
       "      <td>Bachelor's Degree</td>\n",
       "      <td>Married</td>\n",
       "      <td>2</td>\n",
       "      <td>Owned</td>\n",
       "      <td>High</td>\n",
       "    </tr>\n",
       "    <tr>\n",
       "      <th>162</th>\n",
       "      <td>44</td>\n",
       "      <td>Male</td>\n",
       "      <td>87500</td>\n",
       "      <td>Master's Degree</td>\n",
       "      <td>Single</td>\n",
       "      <td>0</td>\n",
       "      <td>Owned</td>\n",
       "      <td>High</td>\n",
       "    </tr>\n",
       "    <tr>\n",
       "      <th>163</th>\n",
       "      <td>49</td>\n",
       "      <td>Female</td>\n",
       "      <td>77500</td>\n",
       "      <td>Doctorate</td>\n",
       "      <td>Married</td>\n",
       "      <td>1</td>\n",
       "      <td>Owned</td>\n",
       "      <td>High</td>\n",
       "    </tr>\n",
       "  </tbody>\n",
       "</table>\n",
       "</div>"
      ],
      "text/plain": [
       "     Age  Gender  Income            Education Marital Status  \\\n",
       "159   29  Female   27500  High School Diploma         Single   \n",
       "160   34    Male   47500   Associate's Degree         Single   \n",
       "161   39  Female   62500    Bachelor's Degree        Married   \n",
       "162   44    Male   87500      Master's Degree         Single   \n",
       "163   49  Female   77500            Doctorate        Married   \n",
       "\n",
       "     Number of Children Home Ownership Credit Score  \n",
       "159                   0         Rented          Low  \n",
       "160                   0         Rented      Average  \n",
       "161                   2          Owned         High  \n",
       "162                   0          Owned         High  \n",
       "163                   1          Owned         High  "
      ]
     },
     "execution_count": 4,
     "metadata": {},
     "output_type": "execute_result"
    }
   ],
   "source": [
    "df.tail()"
   ]
  },
  {
   "cell_type": "code",
   "execution_count": 5,
   "id": "7c045f03",
   "metadata": {},
   "outputs": [
    {
     "name": "stdout",
     "output_type": "stream",
     "text": [
      "<class 'pandas.core.frame.DataFrame'>\n",
      "RangeIndex: 164 entries, 0 to 163\n",
      "Data columns (total 8 columns):\n",
      " #   Column              Non-Null Count  Dtype \n",
      "---  ------              --------------  ----- \n",
      " 0   Age                 164 non-null    int64 \n",
      " 1   Gender              164 non-null    object\n",
      " 2   Income              164 non-null    int64 \n",
      " 3   Education           164 non-null    object\n",
      " 4   Marital Status      164 non-null    object\n",
      " 5   Number of Children  164 non-null    int64 \n",
      " 6   Home Ownership      164 non-null    object\n",
      " 7   Credit Score        164 non-null    object\n",
      "dtypes: int64(3), object(5)\n",
      "memory usage: 10.4+ KB\n"
     ]
    }
   ],
   "source": [
    "df.info()"
   ]
  },
  {
   "cell_type": "code",
   "execution_count": 7,
   "id": "2b36ff0b",
   "metadata": {},
   "outputs": [],
   "source": [
    "df.rename(columns={'Age': 'Idade', 'Gender': 'Genero', 'Income': 'Renda', 'Education': 'Educação', 'Marital Status': 'Estado_civil', 'Number of Children': 'Numero_de_filhos', 'Home Ownership': 'Casa_propia', 'Credit Score': 'Score_de_credito'}, inplace=True)"
   ]
  },
  {
   "cell_type": "code",
   "execution_count": 8,
   "id": "5b988aba",
   "metadata": {},
   "outputs": [
    {
     "data": {
      "text/html": [
       "<div>\n",
       "<style scoped>\n",
       "    .dataframe tbody tr th:only-of-type {\n",
       "        vertical-align: middle;\n",
       "    }\n",
       "\n",
       "    .dataframe tbody tr th {\n",
       "        vertical-align: top;\n",
       "    }\n",
       "\n",
       "    .dataframe thead th {\n",
       "        text-align: right;\n",
       "    }\n",
       "</style>\n",
       "<table border=\"1\" class=\"dataframe\">\n",
       "  <thead>\n",
       "    <tr style=\"text-align: right;\">\n",
       "      <th></th>\n",
       "      <th>Idade</th>\n",
       "      <th>Genero</th>\n",
       "      <th>Renda</th>\n",
       "      <th>Educação</th>\n",
       "      <th>Estado_civil</th>\n",
       "      <th>Numero_de_filhos</th>\n",
       "      <th>Casa_propia</th>\n",
       "      <th>Score_de_credito</th>\n",
       "    </tr>\n",
       "  </thead>\n",
       "  <tbody>\n",
       "    <tr>\n",
       "      <th>0</th>\n",
       "      <td>25</td>\n",
       "      <td>Female</td>\n",
       "      <td>50000</td>\n",
       "      <td>Bachelor's Degree</td>\n",
       "      <td>Single</td>\n",
       "      <td>0</td>\n",
       "      <td>Rented</td>\n",
       "      <td>High</td>\n",
       "    </tr>\n",
       "    <tr>\n",
       "      <th>1</th>\n",
       "      <td>30</td>\n",
       "      <td>Male</td>\n",
       "      <td>100000</td>\n",
       "      <td>Master's Degree</td>\n",
       "      <td>Married</td>\n",
       "      <td>2</td>\n",
       "      <td>Owned</td>\n",
       "      <td>High</td>\n",
       "    </tr>\n",
       "    <tr>\n",
       "      <th>2</th>\n",
       "      <td>35</td>\n",
       "      <td>Female</td>\n",
       "      <td>75000</td>\n",
       "      <td>Doctorate</td>\n",
       "      <td>Married</td>\n",
       "      <td>1</td>\n",
       "      <td>Owned</td>\n",
       "      <td>High</td>\n",
       "    </tr>\n",
       "    <tr>\n",
       "      <th>3</th>\n",
       "      <td>40</td>\n",
       "      <td>Male</td>\n",
       "      <td>125000</td>\n",
       "      <td>High School Diploma</td>\n",
       "      <td>Single</td>\n",
       "      <td>0</td>\n",
       "      <td>Owned</td>\n",
       "      <td>High</td>\n",
       "    </tr>\n",
       "    <tr>\n",
       "      <th>4</th>\n",
       "      <td>45</td>\n",
       "      <td>Female</td>\n",
       "      <td>100000</td>\n",
       "      <td>Bachelor's Degree</td>\n",
       "      <td>Married</td>\n",
       "      <td>3</td>\n",
       "      <td>Owned</td>\n",
       "      <td>High</td>\n",
       "    </tr>\n",
       "  </tbody>\n",
       "</table>\n",
       "</div>"
      ],
      "text/plain": [
       "   Idade  Genero   Renda             Educação Estado_civil  Numero_de_filhos  \\\n",
       "0     25  Female   50000    Bachelor's Degree       Single                 0   \n",
       "1     30    Male  100000      Master's Degree      Married                 2   \n",
       "2     35  Female   75000            Doctorate      Married                 1   \n",
       "3     40    Male  125000  High School Diploma       Single                 0   \n",
       "4     45  Female  100000    Bachelor's Degree      Married                 3   \n",
       "\n",
       "  Casa_propia Score_de_credito  \n",
       "0      Rented             High  \n",
       "1       Owned             High  \n",
       "2       Owned             High  \n",
       "3       Owned             High  \n",
       "4       Owned             High  "
      ]
     },
     "execution_count": 8,
     "metadata": {},
     "output_type": "execute_result"
    }
   ],
   "source": [
    "df.head()"
   ]
  },
  {
   "cell_type": "code",
   "execution_count": 9,
   "id": "1f639f57",
   "metadata": {},
   "outputs": [
    {
     "data": {
      "text/plain": [
       "array(['Rented', 'Owned'], dtype=object)"
      ]
     },
     "execution_count": 9,
     "metadata": {},
     "output_type": "execute_result"
    }
   ],
   "source": [
    "df['Casa_propia'].unique()"
   ]
  },
  {
   "cell_type": "code",
   "execution_count": 11,
   "id": "613decad",
   "metadata": {
    "scrolled": true
   },
   "outputs": [
    {
     "data": {
      "text/plain": [
       "Renda\n",
       "25000     1\n",
       "27500     4\n",
       "30000     1\n",
       "32500     4\n",
       "35000     1\n",
       "37500     4\n",
       "40000     1\n",
       "45000     3\n",
       "47500     5\n",
       "50000     3\n",
       "52500     4\n",
       "55000     4\n",
       "57500     7\n",
       "60000     4\n",
       "62500     5\n",
       "65000     4\n",
       "67500     5\n",
       "68000     1\n",
       "70000     3\n",
       "72500     2\n",
       "75000     4\n",
       "77500     5\n",
       "80000     4\n",
       "82000     1\n",
       "82500     2\n",
       "85000     8\n",
       "87500     5\n",
       "90000     7\n",
       "92500     3\n",
       "95000     7\n",
       "97500     2\n",
       "100000    4\n",
       "102500    1\n",
       "105000    7\n",
       "110000    4\n",
       "112500    3\n",
       "115000    3\n",
       "117500    3\n",
       "120000    1\n",
       "122500    2\n",
       "125000    3\n",
       "127500    1\n",
       "130000    4\n",
       "135000    2\n",
       "137500    1\n",
       "140000    2\n",
       "142500    2\n",
       "145000    1\n",
       "150000    2\n",
       "155000    2\n",
       "160000    1\n",
       "162500    1\n",
       "dtype: int64"
      ]
     },
     "execution_count": 11,
     "metadata": {},
     "output_type": "execute_result"
    }
   ],
   "source": [
    "df.groupby(['Renda']).size()"
   ]
  },
  {
   "cell_type": "code",
   "execution_count": 12,
   "id": "6960306e",
   "metadata": {},
   "outputs": [
    {
     "data": {
      "text/plain": [
       "Idade               0\n",
       "Genero              0\n",
       "Renda               0\n",
       "Educação            0\n",
       "Estado_civil        0\n",
       "Numero_de_filhos    0\n",
       "Casa_propia         0\n",
       "Score_de_credito    0\n",
       "dtype: int64"
      ]
     },
     "execution_count": 12,
     "metadata": {},
     "output_type": "execute_result"
    }
   ],
   "source": [
    "df.isnull().sum()"
   ]
  },
  {
   "cell_type": "code",
   "execution_count": 13,
   "id": "f738d0e4",
   "metadata": {},
   "outputs": [
    {
     "data": {
      "text/html": [
       "<div>\n",
       "<style scoped>\n",
       "    .dataframe tbody tr th:only-of-type {\n",
       "        vertical-align: middle;\n",
       "    }\n",
       "\n",
       "    .dataframe tbody tr th {\n",
       "        vertical-align: top;\n",
       "    }\n",
       "\n",
       "    .dataframe thead th {\n",
       "        text-align: right;\n",
       "    }\n",
       "</style>\n",
       "<table border=\"1\" class=\"dataframe\">\n",
       "  <thead>\n",
       "    <tr style=\"text-align: right;\">\n",
       "      <th></th>\n",
       "      <th>Idade</th>\n",
       "      <th>Renda</th>\n",
       "      <th>Numero_de_filhos</th>\n",
       "    </tr>\n",
       "  </thead>\n",
       "  <tbody>\n",
       "    <tr>\n",
       "      <th>count</th>\n",
       "      <td>164.000000</td>\n",
       "      <td>164.000000</td>\n",
       "      <td>164.000000</td>\n",
       "    </tr>\n",
       "    <tr>\n",
       "      <th>mean</th>\n",
       "      <td>37.975610</td>\n",
       "      <td>83765.243902</td>\n",
       "      <td>0.652439</td>\n",
       "    </tr>\n",
       "    <tr>\n",
       "      <th>std</th>\n",
       "      <td>8.477289</td>\n",
       "      <td>32457.306728</td>\n",
       "      <td>0.883346</td>\n",
       "    </tr>\n",
       "    <tr>\n",
       "      <th>min</th>\n",
       "      <td>25.000000</td>\n",
       "      <td>25000.000000</td>\n",
       "      <td>0.000000</td>\n",
       "    </tr>\n",
       "    <tr>\n",
       "      <th>25%</th>\n",
       "      <td>30.750000</td>\n",
       "      <td>57500.000000</td>\n",
       "      <td>0.000000</td>\n",
       "    </tr>\n",
       "    <tr>\n",
       "      <th>50%</th>\n",
       "      <td>37.000000</td>\n",
       "      <td>83750.000000</td>\n",
       "      <td>0.000000</td>\n",
       "    </tr>\n",
       "    <tr>\n",
       "      <th>75%</th>\n",
       "      <td>45.000000</td>\n",
       "      <td>105000.000000</td>\n",
       "      <td>1.000000</td>\n",
       "    </tr>\n",
       "    <tr>\n",
       "      <th>max</th>\n",
       "      <td>53.000000</td>\n",
       "      <td>162500.000000</td>\n",
       "      <td>3.000000</td>\n",
       "    </tr>\n",
       "  </tbody>\n",
       "</table>\n",
       "</div>"
      ],
      "text/plain": [
       "            Idade          Renda  Numero_de_filhos\n",
       "count  164.000000     164.000000        164.000000\n",
       "mean    37.975610   83765.243902          0.652439\n",
       "std      8.477289   32457.306728          0.883346\n",
       "min     25.000000   25000.000000          0.000000\n",
       "25%     30.750000   57500.000000          0.000000\n",
       "50%     37.000000   83750.000000          0.000000\n",
       "75%     45.000000  105000.000000          1.000000\n",
       "max     53.000000  162500.000000          3.000000"
      ]
     },
     "execution_count": 13,
     "metadata": {},
     "output_type": "execute_result"
    }
   ],
   "source": [
    "df.describe()"
   ]
  },
  {
   "cell_type": "markdown",
   "id": "a27add06",
   "metadata": {},
   "source": [
    "Vamos vamos avaliar os outliers das colunas que são numericas."
   ]
  },
  {
   "cell_type": "code",
   "execution_count": 17,
   "id": "d3921273",
   "metadata": {},
   "outputs": [
    {
     "name": "stdout",
     "output_type": "stream",
     "text": [
      "Idade : int64\n",
      "Renda : int64\n",
      "Numero_de_filhos : int64\n"
     ]
    }
   ],
   "source": [
    "# Vamos carregar em uma lista as variaveis que são do tipo INT64\n",
    "variaveis_numericas = []\n",
    "for i in df.columns[0:10].tolist():\n",
    "    if df.dtypes[i] == 'int64':\n",
    "        print(i, \":\" , df.dtypes[i])\n",
    "        variaveis_numericas.append(i)"
   ]
  },
  {
   "cell_type": "code",
   "execution_count": 19,
   "id": "85fd8c10",
   "metadata": {},
   "outputs": [
    {
     "data": {
      "text/plain": [
       "['Idade', 'Renda', 'Numero_de_filhos']"
      ]
     },
     "execution_count": 19,
     "metadata": {},
     "output_type": "execute_result"
    }
   ],
   "source": [
    "variaveis_numericas"
   ]
  },
  {
   "cell_type": "code",
   "execution_count": 29,
   "id": "d745118e",
   "metadata": {},
   "outputs": [
    {
     "data": {
      "image/png": "[encoded data removed]",
      "text/plain": [
       "<Figure size 1500x1200 with 4 Axes>"
      ]
     },
     "metadata": {},
     "output_type": "display_data"
    }
   ],
   "source": [
    "# Vamos exibir todos os graficos de uma vez para facilitar nossa analise.\n",
    "\n",
    "# aqui definimos o tamanho da tela para exibição dos gráficos.\n",
    "plt.rcParams[\"figure.figsize\"] = [15.00, 12.00]\n",
    "plt.rcParams[\"figure.autolayout\"] = True\n",
    "\n",
    "\n",
    "# Aqui definimos em quantas linhas e colunas queremos exibir os graficos\n",
    "f, axes = plt.subplots(2, 2) # 2 linhas e 5 colunas\n",
    "\n",
    "linha = 0\n",
    "coluna = 0\n",
    "\n",
    "for i in variaveis_numericas:\n",
    "    sns.boxplot(data = df, y=i, ax=axes[linha][coluna])\n",
    "    coluna += 1\n",
    "    if coluna == 2:\n",
    "        linha += 1\n",
    "        coluna = 0\n",
    "\n",
    "plt.show()"
   ]
  },
  {
   "cell_type": "markdown",
   "id": "75513ea4",
   "metadata": {},
   "source": [
    "Neste caso os dados encontrados não são considerados outliers, é normal uma pessoa ter 3 filhos, então não precisaremos tratar esse dado."
   ]
  },
  {
   "cell_type": "code",
   "execution_count": 30,
   "id": "f5f8ddb9",
   "metadata": {},
   "outputs": [
    {
     "data": {
      "text/plain": [
       "Estado_civil\n",
       "Married    87\n",
       "Single     77\n",
       "dtype: int64"
      ]
     },
     "execution_count": 30,
     "metadata": {},
     "output_type": "execute_result"
    }
   ],
   "source": [
    "df.groupby(['Estado_civil']).size()"
   ]
  },
  {
   "cell_type": "code",
   "execution_count": 31,
   "id": "624e3508",
   "metadata": {},
   "outputs": [
    {
     "data": {
      "text/plain": [
       "Educação\n",
       "Associate's Degree     25\n",
       "Bachelor's Degree      42\n",
       "Doctorate              31\n",
       "High School Diploma    30\n",
       "Master's Degree        36\n",
       "dtype: int64"
      ]
     },
     "execution_count": 31,
     "metadata": {},
     "output_type": "execute_result"
    }
   ],
   "source": [
    "df.groupby(['Educação']).size()"
   ]
  },
  {
   "cell_type": "code",
   "execution_count": 32,
   "id": "c512b33f",
   "metadata": {},
   "outputs": [
    {
     "data": {
      "text/plain": [
       "Idade\n",
       "25    9\n",
       "26    6\n",
       "27    5\n",
       "28    6\n",
       "29    6\n",
       "30    9\n",
       "31    6\n",
       "32    6\n",
       "33    6\n",
       "34    6\n",
       "35    9\n",
       "36    5\n",
       "37    5\n",
       "38    5\n",
       "39    5\n",
       "40    5\n",
       "41    5\n",
       "42    5\n",
       "43    5\n",
       "44    5\n",
       "45    5\n",
       "46    5\n",
       "47    5\n",
       "48    5\n",
       "49    5\n",
       "50    5\n",
       "51    5\n",
       "52    5\n",
       "53    5\n",
       "dtype: int64"
      ]
     },
     "execution_count": 32,
     "metadata": {},
     "output_type": "execute_result"
    }
   ],
   "source": [
    "df.groupby(['Idade']).size()"
   ]
  },
  {
   "cell_type": "markdown",
   "id": "6a130a35",
   "metadata": {},
   "source": [
    "Agora vamos gerar um gráfico de histograma para avaliar a distribuição dos dados"
   ]
  },
  {
   "cell_type": "code",
   "execution_count": 33,
   "id": "4972c273",
   "metadata": {
    "scrolled": true
   },
   "outputs": [
    {
     "data": {
      "image/png": "[encoded data removed]",
      "text/plain": [
       "<Figure size 1500x1200 with 4 Axes>"
      ]
     },
     "metadata": {},
     "output_type": "display_data"
    }
   ],
   "source": [
    "# aqui definimos o tamanho da tela para exibição dos gráficos.\n",
    "plt.rcParams[\"figure.figsize\"] = [15.00, 12.00]\n",
    "plt.rcParams[\"figure.autolayout\"] = True\n",
    "\n",
    "\n",
    "# Aqui definimos em quantas linhas e colunas queremos exibir os graficos\n",
    "f, axes = plt.subplots(2, 2) # 2 linhas e 5 colunas\n",
    "\n",
    "linha = 0\n",
    "coluna = 0\n",
    "\n",
    "for i in variaveis_numericas:\n",
    "    sns.histplot(data = df, y=i, ax=axes[linha][coluna])\n",
    "    coluna += 1\n",
    "    if coluna == 2:\n",
    "        linha += 1\n",
    "        coluna = 0\n",
    "\n",
    "plt.show()"
   ]
  },
  {
   "cell_type": "code",
   "execution_count": 34,
   "id": "292f028e",
   "metadata": {
    "scrolled": false
   },
   "outputs": [
    {
     "data": {
      "image/png": "[encoded data removed]",
      "text/plain": [
       "<Figure size 1800x800 with 2 Axes>"
      ]
     },
     "metadata": {},
     "output_type": "display_data"
    }
   ],
   "source": [
    "# Através do hitmap podemos visualizar a correção entre todas as variaveis.\n",
    "\n",
    "plt.rcParams[\"figure.figsize\"] = (18,8)\n",
    "ax = sns.heatmap(df.corr(), annot=True)"
   ]
  },
  {
   "cell_type": "code",
   "execution_count": 39,
   "id": "76085185",
   "metadata": {
    "scrolled": true
   },
   "outputs": [],
   "source": [
    "credit_mapping = {\n",
    "    \"High\": 3,\n",
    "    \"Average\": 2,\n",
    "    \"Low\": 1\n",
    "}\n",
    "\n",
    "df['Score_de_credito'] = df['Score_de_credito'].map(credit_mapping)"
   ]
  },
  {
   "cell_type": "code",
   "execution_count": 42,
   "id": "b6dfcb0d",
   "metadata": {},
   "outputs": [
    {
     "name": "stdout",
     "output_type": "stream",
     "text": [
      "maior idade:  25\n",
      "menor idade:  53\n"
     ]
    }
   ],
   "source": [
    "print('maior idade: ', df['Idade'].min())\n",
    "print('menor idade: ', df['Idade'].max())"
   ]
  },
  {
   "cell_type": "code",
   "execution_count": 43,
   "id": "3a4f369e",
   "metadata": {
    "scrolled": true
   },
   "outputs": [
    {
     "data": {
      "text/plain": [
       "31 a 40         58\n",
       "41 a 50         50\n",
       "Até 30          41\n",
       "Maior que 50    15\n",
       "Name: Faixa_etaria, dtype: int64"
      ]
     },
     "execution_count": 43,
     "metadata": {},
     "output_type": "execute_result"
    }
   ],
   "source": [
    "idade_bins = [0, 30, 40, 50, 60]\n",
    "idade_categoria = [\"Até 30\", \"31 a 40\", \"41 a 50\", \"Maior que 50\"]\n",
    "\n",
    "df[\"Faixa_etaria\"] = pd.cut(df[\"Idade\"], idade_bins, labels=idade_categoria)\n",
    "\n",
    "df[\"Faixa_etaria\"].value_counts()"
   ]
  },
  {
   "cell_type": "code",
   "execution_count": 45,
   "id": "0cf3e64a",
   "metadata": {},
   "outputs": [
    {
     "data": {
      "text/plain": [
       "Faixa_etaria\n",
       "Até 30          2.0\n",
       "31 a 40         3.0\n",
       "41 a 50         3.0\n",
       "Maior que 50    3.0\n",
       "Name: Score_de_credito, dtype: float64"
      ]
     },
     "execution_count": 45,
     "metadata": {},
     "output_type": "execute_result"
    }
   ],
   "source": [
    "df.groupby([\"Faixa_etaria\"]).median()[\"Score_de_credito\"]"
   ]
  },
  {
   "cell_type": "code",
   "execution_count": 46,
   "id": "df1fe49c",
   "metadata": {
    "scrolled": true
   },
   "outputs": [
    {
     "name": "stdout",
     "output_type": "stream",
     "text": [
      "Genero : object\n",
      "Educação : object\n",
      "Estado_civil : object\n",
      "Casa_propia : object\n",
      "Faixa_etaria : category\n"
     ]
    }
   ],
   "source": [
    "# Vamos carregar em uma lista as variaveis que são do tipo INT64\n",
    "variaveis_numericas = []\n",
    "for i in df.columns[0:10].tolist():\n",
    "    if df.dtypes[i] == 'object' or df.dtypes[i] == 'category':\n",
    "        print(i, \":\" , df.dtypes[i])\n",
    "        variaveis_numericas.append(i)"
   ]
  },
  {
   "cell_type": "code",
   "execution_count": 47,
   "id": "ba2d87c9",
   "metadata": {
    "scrolled": true
   },
   "outputs": [
    {
     "data": {
      "image/png": "[encoded data removed]",
      "text/plain": [
       "<Figure size 1500x1200 with 6 Axes>"
      ]
     },
     "metadata": {},
     "output_type": "display_data"
    }
   ],
   "source": [
    "\n",
    "# aqui definimos o tamanho da tela para exibição dos gráficos.\n",
    "plt.rcParams[\"figure.figsize\"] = [15.00, 12.00]\n",
    "plt.rcParams[\"figure.autolayout\"] = True\n",
    "\n",
    "\n",
    "# Aqui definimos em quantas linhas e colunas queremos exibir os graficos\n",
    "f, axes = plt.subplots(2, 3) # 2 linhas e 3 colunas\n",
    "\n",
    "linha = 0\n",
    "coluna = 0\n",
    "\n",
    "for i in variaveis_numericas:\n",
    "    sns.countplot(data = df, y=i, ax=axes[linha][coluna])\n",
    "    coluna += 1\n",
    "    if coluna == 3:\n",
    "        linha += 1\n",
    "        coluna = 0\n",
    "\n",
    "plt.show()"
   ]
  },
  {
   "cell_type": "markdown",
   "id": "81562713",
   "metadata": {},
   "source": [
    "Agora vamos começar o pré processamento dos dados"
   ]
  },
  {
   "cell_type": "code",
   "execution_count": 50,
   "id": "43cddaa8",
   "metadata": {},
   "outputs": [
    {
     "name": "stdout",
     "output_type": "stream",
     "text": [
      "<class 'pandas.core.frame.DataFrame'>\n",
      "RangeIndex: 164 entries, 0 to 163\n",
      "Data columns (total 9 columns):\n",
      " #   Column            Non-Null Count  Dtype   \n",
      "---  ------            --------------  -----   \n",
      " 0   Idade             164 non-null    int64   \n",
      " 1   Genero            164 non-null    object  \n",
      " 2   Renda             164 non-null    int64   \n",
      " 3   Educação          164 non-null    object  \n",
      " 4   Estado_civil      164 non-null    object  \n",
      " 5   Numero_de_filhos  164 non-null    int64   \n",
      " 6   Casa_propia       164 non-null    object  \n",
      " 7   Score_de_credito  164 non-null    int64   \n",
      " 8   Faixa_etaria      164 non-null    category\n",
      "dtypes: category(1), int64(4), object(4)\n",
      "memory usage: 10.7+ KB\n"
     ]
    }
   ],
   "source": [
    "df.info()"
   ]
  },
  {
   "cell_type": "code",
   "execution_count": 52,
   "id": "66402c37",
   "metadata": {},
   "outputs": [],
   "source": [
    "# Cria o encoder\n",
    "lb = LabelEncoder()\n",
    "\n",
    "# Aplica o encoder nas variaveis que estão como string\n",
    "df['Genero'] = lb.fit_transform(df['Genero'])\n",
    "df['Educação'] = lb.fit_transform(df['Educação'])\n",
    "df['Estado_civil'] = lb.fit_transform(df['Estado_civil'])\n",
    "df['Casa_propia'] = lb.fit_transform(df['Casa_propia'])\n",
    "df['Faixa_etaria'] = lb.fit_transform(df['Faixa_etaria'])\n",
    "\n",
    "#Remove valores missing eventualmente gerados\n",
    "df.dropna(inplace=True)"
   ]
  },
  {
   "cell_type": "code",
   "execution_count": 53,
   "id": "c8bc4c6e",
   "metadata": {},
   "outputs": [
    {
     "data": {
      "text/html": [
       "<div>\n",
       "<style scoped>\n",
       "    .dataframe tbody tr th:only-of-type {\n",
       "        vertical-align: middle;\n",
       "    }\n",
       "\n",
       "    .dataframe tbody tr th {\n",
       "        vertical-align: top;\n",
       "    }\n",
       "\n",
       "    .dataframe thead th {\n",
       "        text-align: right;\n",
       "    }\n",
       "</style>\n",
       "<table border=\"1\" class=\"dataframe\">\n",
       "  <thead>\n",
       "    <tr style=\"text-align: right;\">\n",
       "      <th></th>\n",
       "      <th>Idade</th>\n",
       "      <th>Genero</th>\n",
       "      <th>Renda</th>\n",
       "      <th>Educação</th>\n",
       "      <th>Estado_civil</th>\n",
       "      <th>Numero_de_filhos</th>\n",
       "      <th>Casa_propia</th>\n",
       "      <th>Score_de_credito</th>\n",
       "      <th>Faixa_etaria</th>\n",
       "    </tr>\n",
       "  </thead>\n",
       "  <tbody>\n",
       "    <tr>\n",
       "      <th>0</th>\n",
       "      <td>25</td>\n",
       "      <td>0</td>\n",
       "      <td>50000</td>\n",
       "      <td>1</td>\n",
       "      <td>1</td>\n",
       "      <td>0</td>\n",
       "      <td>1</td>\n",
       "      <td>3</td>\n",
       "      <td>2</td>\n",
       "    </tr>\n",
       "    <tr>\n",
       "      <th>1</th>\n",
       "      <td>30</td>\n",
       "      <td>1</td>\n",
       "      <td>100000</td>\n",
       "      <td>4</td>\n",
       "      <td>0</td>\n",
       "      <td>2</td>\n",
       "      <td>0</td>\n",
       "      <td>3</td>\n",
       "      <td>2</td>\n",
       "    </tr>\n",
       "    <tr>\n",
       "      <th>2</th>\n",
       "      <td>35</td>\n",
       "      <td>0</td>\n",
       "      <td>75000</td>\n",
       "      <td>2</td>\n",
       "      <td>0</td>\n",
       "      <td>1</td>\n",
       "      <td>0</td>\n",
       "      <td>3</td>\n",
       "      <td>0</td>\n",
       "    </tr>\n",
       "    <tr>\n",
       "      <th>3</th>\n",
       "      <td>40</td>\n",
       "      <td>1</td>\n",
       "      <td>125000</td>\n",
       "      <td>3</td>\n",
       "      <td>1</td>\n",
       "      <td>0</td>\n",
       "      <td>0</td>\n",
       "      <td>3</td>\n",
       "      <td>0</td>\n",
       "    </tr>\n",
       "    <tr>\n",
       "      <th>4</th>\n",
       "      <td>45</td>\n",
       "      <td>0</td>\n",
       "      <td>100000</td>\n",
       "      <td>1</td>\n",
       "      <td>0</td>\n",
       "      <td>3</td>\n",
       "      <td>0</td>\n",
       "      <td>3</td>\n",
       "      <td>1</td>\n",
       "    </tr>\n",
       "    <tr>\n",
       "      <th>...</th>\n",
       "      <td>...</td>\n",
       "      <td>...</td>\n",
       "      <td>...</td>\n",
       "      <td>...</td>\n",
       "      <td>...</td>\n",
       "      <td>...</td>\n",
       "      <td>...</td>\n",
       "      <td>...</td>\n",
       "      <td>...</td>\n",
       "    </tr>\n",
       "    <tr>\n",
       "      <th>159</th>\n",
       "      <td>29</td>\n",
       "      <td>0</td>\n",
       "      <td>27500</td>\n",
       "      <td>3</td>\n",
       "      <td>1</td>\n",
       "      <td>0</td>\n",
       "      <td>1</td>\n",
       "      <td>1</td>\n",
       "      <td>2</td>\n",
       "    </tr>\n",
       "    <tr>\n",
       "      <th>160</th>\n",
       "      <td>34</td>\n",
       "      <td>1</td>\n",
       "      <td>47500</td>\n",
       "      <td>0</td>\n",
       "      <td>1</td>\n",
       "      <td>0</td>\n",
       "      <td>1</td>\n",
       "      <td>2</td>\n",
       "      <td>0</td>\n",
       "    </tr>\n",
       "    <tr>\n",
       "      <th>161</th>\n",
       "      <td>39</td>\n",
       "      <td>0</td>\n",
       "      <td>62500</td>\n",
       "      <td>1</td>\n",
       "      <td>0</td>\n",
       "      <td>2</td>\n",
       "      <td>0</td>\n",
       "      <td>3</td>\n",
       "      <td>0</td>\n",
       "    </tr>\n",
       "    <tr>\n",
       "      <th>162</th>\n",
       "      <td>44</td>\n",
       "      <td>1</td>\n",
       "      <td>87500</td>\n",
       "      <td>4</td>\n",
       "      <td>1</td>\n",
       "      <td>0</td>\n",
       "      <td>0</td>\n",
       "      <td>3</td>\n",
       "      <td>1</td>\n",
       "    </tr>\n",
       "    <tr>\n",
       "      <th>163</th>\n",
       "      <td>49</td>\n",
       "      <td>0</td>\n",
       "      <td>77500</td>\n",
       "      <td>2</td>\n",
       "      <td>0</td>\n",
       "      <td>1</td>\n",
       "      <td>0</td>\n",
       "      <td>3</td>\n",
       "      <td>1</td>\n",
       "    </tr>\n",
       "  </tbody>\n",
       "</table>\n",
       "<p>164 rows × 9 columns</p>\n",
       "</div>"
      ],
      "text/plain": [
       "     Idade  Genero   Renda  Educação  Estado_civil  Numero_de_filhos  \\\n",
       "0       25       0   50000         1             1                 0   \n",
       "1       30       1  100000         4             0                 2   \n",
       "2       35       0   75000         2             0                 1   \n",
       "3       40       1  125000         3             1                 0   \n",
       "4       45       0  100000         1             0                 3   \n",
       "..     ...     ...     ...       ...           ...               ...   \n",
       "159     29       0   27500         3             1                 0   \n",
       "160     34       1   47500         0             1                 0   \n",
       "161     39       0   62500         1             0                 2   \n",
       "162     44       1   87500         4             1                 0   \n",
       "163     49       0   77500         2             0                 1   \n",
       "\n",
       "     Casa_propia  Score_de_credito  Faixa_etaria  \n",
       "0              1                 3             2  \n",
       "1              0                 3             2  \n",
       "2              0                 3             0  \n",
       "3              0                 3             0  \n",
       "4              0                 3             1  \n",
       "..           ...               ...           ...  \n",
       "159            1                 1             2  \n",
       "160            1                 2             0  \n",
       "161            0                 3             0  \n",
       "162            0                 3             1  \n",
       "163            0                 3             1  \n",
       "\n",
       "[164 rows x 9 columns]"
      ]
     },
     "execution_count": 53,
     "metadata": {},
     "output_type": "execute_result"
    }
   ],
   "source": [
    "df.head(200)"
   ]
  },
  {
   "cell_type": "code",
   "execution_count": 54,
   "id": "f9e3c888",
   "metadata": {
    "scrolled": false
   },
   "outputs": [
    {
     "name": "stdout",
     "output_type": "stream",
     "text": [
      "<class 'pandas.core.frame.DataFrame'>\n",
      "RangeIndex: 164 entries, 0 to 163\n",
      "Data columns (total 9 columns):\n",
      " #   Column            Non-Null Count  Dtype\n",
      "---  ------            --------------  -----\n",
      " 0   Idade             164 non-null    int64\n",
      " 1   Genero            164 non-null    int64\n",
      " 2   Renda             164 non-null    int64\n",
      " 3   Educação          164 non-null    int64\n",
      " 4   Estado_civil      164 non-null    int64\n",
      " 5   Numero_de_filhos  164 non-null    int64\n",
      " 6   Casa_propia       164 non-null    int64\n",
      " 7   Score_de_credito  164 non-null    int64\n",
      " 8   Faixa_etaria      164 non-null    int64\n",
      "dtypes: int64(9)\n",
      "memory usage: 11.7 KB\n"
     ]
    }
   ],
   "source": [
    "df.info()"
   ]
  },
  {
   "cell_type": "code",
   "execution_count": 56,
   "id": "2f2c3aed",
   "metadata": {
    "scrolled": true
   },
   "outputs": [],
   "source": [
    "# separando a variavel alvo\n",
    "target = df.iloc[df['Score_de_credito']]"
   ]
  },
  {
   "cell_type": "code",
   "execution_count": 57,
   "id": "4ddbc3b3",
   "metadata": {},
   "outputs": [
    {
     "data": {
      "text/html": [
       "<div>\n",
       "<style scoped>\n",
       "    .dataframe tbody tr th:only-of-type {\n",
       "        vertical-align: middle;\n",
       "    }\n",
       "\n",
       "    .dataframe tbody tr th {\n",
       "        vertical-align: top;\n",
       "    }\n",
       "\n",
       "    .dataframe thead th {\n",
       "        text-align: right;\n",
       "    }\n",
       "</style>\n",
       "<table border=\"1\" class=\"dataframe\">\n",
       "  <thead>\n",
       "    <tr style=\"text-align: right;\">\n",
       "      <th></th>\n",
       "      <th>Idade</th>\n",
       "      <th>Genero</th>\n",
       "      <th>Renda</th>\n",
       "      <th>Educação</th>\n",
       "      <th>Estado_civil</th>\n",
       "      <th>Numero_de_filhos</th>\n",
       "      <th>Casa_propia</th>\n",
       "      <th>Faixa_etaria</th>\n",
       "    </tr>\n",
       "  </thead>\n",
       "  <tbody>\n",
       "    <tr>\n",
       "      <th>0</th>\n",
       "      <td>25</td>\n",
       "      <td>0</td>\n",
       "      <td>50000</td>\n",
       "      <td>1</td>\n",
       "      <td>1</td>\n",
       "      <td>0</td>\n",
       "      <td>1</td>\n",
       "      <td>2</td>\n",
       "    </tr>\n",
       "    <tr>\n",
       "      <th>1</th>\n",
       "      <td>30</td>\n",
       "      <td>1</td>\n",
       "      <td>100000</td>\n",
       "      <td>4</td>\n",
       "      <td>0</td>\n",
       "      <td>2</td>\n",
       "      <td>0</td>\n",
       "      <td>2</td>\n",
       "    </tr>\n",
       "    <tr>\n",
       "      <th>2</th>\n",
       "      <td>35</td>\n",
       "      <td>0</td>\n",
       "      <td>75000</td>\n",
       "      <td>2</td>\n",
       "      <td>0</td>\n",
       "      <td>1</td>\n",
       "      <td>0</td>\n",
       "      <td>0</td>\n",
       "    </tr>\n",
       "    <tr>\n",
       "      <th>3</th>\n",
       "      <td>40</td>\n",
       "      <td>1</td>\n",
       "      <td>125000</td>\n",
       "      <td>3</td>\n",
       "      <td>1</td>\n",
       "      <td>0</td>\n",
       "      <td>0</td>\n",
       "      <td>0</td>\n",
       "    </tr>\n",
       "    <tr>\n",
       "      <th>4</th>\n",
       "      <td>45</td>\n",
       "      <td>0</td>\n",
       "      <td>100000</td>\n",
       "      <td>1</td>\n",
       "      <td>0</td>\n",
       "      <td>3</td>\n",
       "      <td>0</td>\n",
       "      <td>1</td>\n",
       "    </tr>\n",
       "  </tbody>\n",
       "</table>\n",
       "</div>"
      ],
      "text/plain": [
       "   Idade  Genero   Renda  Educação  Estado_civil  Numero_de_filhos  \\\n",
       "0     25       0   50000         1             1                 0   \n",
       "1     30       1  100000         4             0                 2   \n",
       "2     35       0   75000         2             0                 1   \n",
       "3     40       1  125000         3             1                 0   \n",
       "4     45       0  100000         1             0                 3   \n",
       "\n",
       "   Casa_propia  Faixa_etaria  \n",
       "0            1             2  \n",
       "1            0             2  \n",
       "2            0             0  \n",
       "3            0             0  \n",
       "4            0             1  "
      ]
     },
     "execution_count": 57,
     "metadata": {},
     "output_type": "execute_result"
    }
   ],
   "source": [
    "# Separando as variaveis preditoras\n",
    "\n",
    "preditoras = df.copy()\n",
    "\n",
    "del preditoras['Score_de_credito']\n",
    "\n",
    "preditoras.head()"
   ]
  },
  {
   "cell_type": "code",
   "execution_count": 59,
   "id": "feb6997f",
   "metadata": {},
   "outputs": [],
   "source": [
    "# divisao em dados de treino e teste\n",
    "x_treino, x_teste, y_treino, y_teste = train_test_split(preditoras, target, test_size = 0.4, random_state = 40)"
   ]
  },
  {
   "cell_type": "code",
   "execution_count": 61,
   "id": "62f9e007",
   "metadata": {},
   "outputs": [],
   "source": [
    "# Vamos aplicar a normalização em treino e teste\n",
    "\n",
    "sc = MinMaxScaler()\n",
    "X_treino_normalizados = sc.fit_transform(x_treino)\n",
    "X_teste_normalizados = sc.transform(x_teste)"
   ]
  },
  {
   "cell_type": "markdown",
   "id": "b50110e8",
   "metadata": {},
   "source": [
    "Criar, Avaliar e testar nosso modelo preditivo"
   ]
  },
  {
   "cell_type": "code",
   "execution_count": 62,
   "id": "a879ce35",
   "metadata": {},
   "outputs": [],
   "source": [
    "# treina o modelo\n",
    "modelo = LinearRegression(normalize = True, fit_intercept = True)\n",
    "\n",
    "modelo = modelo.fit(X_treino_normalizados, y_treino)"
   ]
  },
  {
   "cell_type": "code",
   "execution_count": 63,
   "id": "d89cd530",
   "metadata": {},
   "outputs": [
    {
     "data": {
      "text/plain": [
       "0.745579203091303"
      ]
     },
     "execution_count": 63,
     "metadata": {},
     "output_type": "execute_result"
    }
   ],
   "source": [
    "r2_score(y_teste, modelo.fit(X_treino_normalizados, y_treino).predict(X_teste_normalizados))"
   ]
  },
  {
   "cell_type": "markdown",
   "id": "9a7a7818",
   "metadata": {},
   "source": [
    "Aqui conseguimos definir a acuracia do nosso modelo preditivo, que foi de 75%. Ou seja, a cada 100 registros que passarmos no nosso modelo, ele vai acertar cerca de 75."
   ]
  }
 ],
 "metadata": {
  "kernelspec": {
   "display_name": "Python 3 (ipykernel)",
   "language": "python",
   "name": "python3"
  },
  "language_info": {
   "codemirror_mode": {
    "name": "ipython",
    "version": 3
   },
   "file_extension": ".py",
   "mimetype": "text/x-python",
   "name": "python",
   "nbconvert_exporter": "python",
   "pygments_lexer": "ipython3",
   "version": "3.9.13"
  }
 },
 "nbformat": 4,
 "nbformat_minor": 5
}
